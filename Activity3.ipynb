{
 "cells": [
  {
   "cell_type": "markdown",
   "id": "31afed30-840e-49e1-9984-0c03a9a904cd",
   "metadata": {},
   "source": [
    "Finally, it's time to measure the neutrino oscillation parameters! We will use the two following formulae:\n",
    "\n",
    "$$ {Eq.\\;1: \\; P(𝜈_µ→𝜈_µ) \\; = \\; 1 - \\sin^2(2θ_{23})\\sin^2(1.27∆m_{32}^2\\frac{L[km]}{E[GeV]})} $$\n",
    "\n",
    "$$ {Eq.\\;2: \\; P(𝜈_µ→𝜈_e) \\; = \\; 4\\sin^2(θ_{13})\\sin^2(θ_{23})\\sin^2(1.27∆m_{32}^2\\frac{L[km]}{E[GeV]})} $$"
   ]
  },
  {
   "cell_type": "markdown",
   "id": "6d9fb06a-d331-4d5b-8eee-2c1049cf71e4",
   "metadata": {},
   "source": [
    "<div>\n",
    "<img src=\"Mass States Image.png\" width=\"250\" />\n",
    "</div>"
   ]
  },
  {
   "cell_type": "markdown",
   "id": "c9c5987f-1a55-4da5-9dd5-126ff49cdc63",
   "metadata": {},
   "source": [
    "## Parameters\n",
    "\n",
    "$$ {\\Delta m_{32}^{2} \\; = \\; m_{3}^{2}-m_{2}^{2}} $$ \n",
    "\n",
    "<center>is the difference between the square of mass state three (m<sub>3</sub>) and the square of mass state two (m<sub>2</sub>).</center>"
   ]
  },
  {
   "cell_type": "markdown",
   "id": "7be8efed-fc03-4dfd-8cce-09e0782f12c6",
   "metadata": {},
   "source": [
    "$$ {θ_{32}} $$ \n",
    "\n",
    "<center>tells us how much muon neutrino content is in the third neutrino mass state. If it's 45 degrees, there are equal parts muon and tau neutrinos in the third mass state.</center>"
   ]
  },
  {
   "cell_type": "markdown",
   "id": "7bbbdf54-bc38-4783-b666-ab3a075e0807",
   "metadata": {},
   "source": [
    "$$ {θ_{13}} $$ \n",
    "\n",
    "<center>tells us how much electron neutrino content is in the third neutrino mass state.</center>"
   ]
  },
  {
   "cell_type": "markdown",
   "id": "8249b62e",
   "metadata": {},
   "source": [
    "## Calculations\n",
    "\n",
    "a. Find the DIP in GeV."
   ]
  },
  {
   "cell_type": "markdown",
   "id": "a7cb14ef",
   "metadata": {},
   "source": [
    "b. Use the value of the DIP as the energy (E [GeV]) and the distance between the near detector and the far detector (L = 810 km) to find the value (in eV<sup>2</sup>) of ∆m<sub>32</sub><sup>2</sup>. \n",
    "\n",
    "Do this by evaluating this term: $$ {\\sin^2(1.27∆m_{32}^2\\frac{L[km]}{E[GeV]})} $$"
   ]
  },
  {
   "cell_type": "markdown",
   "id": "0ffd74d7",
   "metadata": {},
   "source": [
    "c. Now use the ratio of the total number of muon neutrinos that reach the far detector to the number of muon neutrinos at the near detector.\n",
    "\n",
    "This ratio corresponds to the probability of muon neutrinos to remain muon neutrinos, i.e. P(𝜈<sub>µ</sub>→𝜈<sub>µ</sub>)."
   ]
  },
  {
   "cell_type": "markdown",
   "id": "c9943674",
   "metadata": {},
   "source": [
    "d. Invert the first equation to find the value of θ<sub>23</sub>."
   ]
  },
  {
   "cell_type": "markdown",
   "id": "33905ccc",
   "metadata": {},
   "source": [
    "e. Now use the ratio of the total number of electron neutrinos that reach the far detector to the number of muon neutrinos at the near detector. \n",
    "\n",
    "This ratio corresponds to the probability of muon neutrinos to change into electron neutrinos, i.e. P(𝜈<sub>µ</sub>→𝜈<sub>e</sub>)."
   ]
  },
  {
   "cell_type": "markdown",
   "id": "6b9a21a9",
   "metadata": {},
   "source": [
    "f. Invert the second equation to find the value of θ<sub>13</sub>."
   ]
  }
 ],
 "metadata": {
  "kernelspec": {
   "display_name": "Python 3 (Belle2)",
   "language": "python",
   "name": "python3"
  },
  "language_info": {
   "codemirror_mode": {
    "name": "ipython",
    "version": 3
   },
   "file_extension": ".py",
   "mimetype": "text/x-python",
   "name": "python",
   "nbconvert_exporter": "python",
   "pygments_lexer": "ipython3",
   "version": "3.8.8"
  }
 },
 "nbformat": 4,
 "nbformat_minor": 5
}
